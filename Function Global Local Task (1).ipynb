{
 "cells": [
  {
   "cell_type": "markdown",
   "id": "d83568fc",
   "metadata": {},
   "source": [
    "![img](https://global-uploads.webflow.com/5f81ff43a0e73644b42c3063/63beda9fa32dae859f01b203_image%20-%202023-01-11T193923.859.png)"
   ]
  },
  {
   "cell_type": "markdown",
   "id": "2cf8928f",
   "metadata": {},
   "source": [
    "# Study this code and answer following"
   ]
  },
  {
   "cell_type": "code",
   "execution_count": 1,
   "id": "82d22229",
   "metadata": {},
   "outputs": [
    {
     "name": "stdout",
     "output_type": "stream",
     "text": [
      "Before calling the function, count = 10\n",
      "Inside the function, count = 6\n",
      "After calling the function, count = 10\n"
     ]
    }
   ],
   "source": [
    "# Global variable\n",
    "count = 10\n",
    "\n",
    "def increment():\n",
    "    # Local variable\n",
    "    count = 5\n",
    "    count += 1\n",
    "    print(\"Inside the function, count =\", count)\n",
    "\n",
    "print(\"Before calling the function, count =\", count)\n",
    "increment()\n",
    "print(\"After calling the function, count =\", count)\n"
   ]
  },
  {
   "cell_type": "markdown",
   "id": "eb5888ba",
   "metadata": {},
   "source": [
    "# Q1. What will be the output of the code before calling the increment function?\n"
   ]
  },
  {
   "cell_type": "code",
   "execution_count": 1,
   "id": "54e820c2",
   "metadata": {},
   "outputs": [
    {
     "ename": "NameError",
     "evalue": "name 'count' is not defined",
     "output_type": "error",
     "traceback": [
      "\u001b[1;31m---------------------------------------------------------------------------\u001b[0m",
      "\u001b[1;31mNameError\u001b[0m                                 Traceback (most recent call last)",
      "Cell \u001b[1;32mIn[1], line 7\u001b[0m\n\u001b[0;32m      4\u001b[0m     \u001b[38;5;28;01mglobal\u001b[39;00m count\n\u001b[0;32m      5\u001b[0m     count \u001b[38;5;241m+\u001b[39m\u001b[38;5;241m=\u001b[39m \u001b[38;5;241m1\u001b[39m\n\u001b[1;32m----> 7\u001b[0m \u001b[38;5;28mprint\u001b[39m(count)\n",
      "\u001b[1;31mNameError\u001b[0m: name 'count' is not defined"
     ]
    }
   ],
   "source": [
    "# Q1count = 0\n",
    "\n",
    "def increment():\n",
    "    global count\n",
    "    count += 1\n",
    "\n",
    "print(count)  \n",
    "\n",
    "\n",
    "\n"
   ]
  },
  {
   "cell_type": "markdown",
   "id": "54df224a",
   "metadata": {},
   "source": [
    "# Q2: What will be the output of the code inside the increment function?"
   ]
  },
  {
   "cell_type": "code",
   "execution_count": 2,
   "id": "0e596bc8",
   "metadata": {},
   "outputs": [
    {
     "name": "stdout",
     "output_type": "stream",
     "text": [
      "1\n"
     ]
    }
   ],
   "source": [
    "# Q2 Answer here\n",
    "count = 0\n",
    "\n",
    "def increment():\n",
    "    global count\n",
    "    count += 1\n",
    "    print(count)\n",
    "\n",
    "increment()"
   ]
  },
  {
   "cell_type": "markdown",
   "id": "8ab13bad",
   "metadata": {},
   "source": [
    "# Q3: What will be the output of the code after calling the increment function?"
   ]
  },
  {
   "cell_type": "code",
   "execution_count": 3,
   "id": "adb4a01a",
   "metadata": {},
   "outputs": [
    {
     "name": "stdout",
     "output_type": "stream",
     "text": [
      "1\n",
      "1\n"
     ]
    }
   ],
   "source": [
    "# Q3 Answer here\n",
    "count = 0\n",
    "\n",
    "def increment():\n",
    "    global count\n",
    "    count += 1\n",
    "    print(count)\n",
    "\n",
    "increment()         \n",
    "print(count)"
   ]
  },
  {
   "cell_type": "markdown",
   "id": "b9479b91",
   "metadata": {},
   "source": [
    "# Q4: Explain why the value of count does not change outside the function after calling increment?"
   ]
  },
  {
   "cell_type": "code",
   "execution_count": 7,
   "id": "e16c11b7",
   "metadata": {},
   "outputs": [],
   "source": [
    "# Q4 Answer hecount = 0\n",
    "\n",
    "def increment():\n",
    "    count = count + 1 \n",
    "    print(count)\n",
    "\n",
    "increment()\n",
    "print(count)re"
   ]
  },
  {
   "cell_type": "markdown",
   "id": "68ec0e37",
   "metadata": {},
   "source": [
    "# Q5: How would you modify the increment function to change the value of the global count variable?"
   ]
  },
  {
   "cell_type": "code",
   "execution_count": 9,
   "id": "4ce28dd1",
   "metadata": {},
   "outputs": [],
   "source": [
    "count = 0  # Global variable\n",
    "\n",
    "def increment():\n",
    "    global count   \n",
    "    count += 1      \n",
    "    print(\"Inside function:\", count)\n",
    "\n",
    "increment()\n",
    "print(\"Outside function:\", count)"
   ]
  },
  {
   "cell_type": "code",
   "execution_count": null,
   "id": "28235d67",
   "metadata": {},
   "outputs": [],
   "source": []
  }
 ],
 "metadata": {
  "kernelspec": {
   "display_name": "Python [conda env:base] *",
   "language": "python",
   "name": "conda-base-py"
  },
  "language_info": {
   "codemirror_mode": {
    "name": "ipython",
    "version": 3
   },
   "file_extension": ".py",
   "mimetype": "text/x-python",
   "name": "python",
   "nbconvert_exporter": "python",
   "pygments_lexer": "ipython3",
   "version": "3.12.7"
  }
 },
 "nbformat": 4,
 "nbformat_minor": 5
}
