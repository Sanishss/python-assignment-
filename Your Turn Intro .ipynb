{
 "cells": [
  {
   "cell_type": "markdown",
   "id": "ad6f2d67",
   "metadata": {},
   "source": [
    "## A variable is a reserved memory area (memory address) to store value. \n",
    "\n",
    "* For example, we want to store an employee’s salary. In such a case, we can create a variable and store salary using it. Using that variable name, you can read or modify the salary amount.\n",
    "`\n",
    "\n",
    "# In this complete the task as per the instruction\n",
    "\n",
    "For example. \n"
   ]
  },
  {
   "cell_type": "code",
   "execution_count": 13,
   "id": "4e566806",
   "metadata": {},
   "outputs": [
    {
     "name": "stdout",
     "output_type": "stream",
     "text": [
      "100\n"
     ]
    }
   ],
   "source": [
    "# Define a variable named salary and assign a value to it\n",
    "\n",
    "saalary = 100\n",
    "\n",
    "\n",
    "\n",
    "\n",
    "print(saalary)\n"
   ]
  },
  {
   "cell_type": "code",
   "execution_count": 3,
   "id": "233228b4",
   "metadata": {},
   "outputs": [
    {
     "name": "stdout",
     "output_type": "stream",
     "text": [
      "The sum of [6, 8, 10, 19] is 43.\n"
     ]
    }
   ],
   "source": [
    "# Find the sum o# Define the list of numbers\n",
    "numbers = [6, 8, 10, 19]\n",
    "\n",
    "# Calculate the sum\n",
    "total = sum(numbers)\n",
    "\n",
    "# Display the result\n",
    "print(f\"The sum of {numbers} is {total}.\")\n",
    "\n",
    "\n"
   ]
  },
  {
   "cell_type": "code",
   "execution_count": 4,
   "id": "b87f7ad9",
   "metadata": {},
   "outputs": [
    {
     "name": "stdout",
     "output_type": "stream",
     "text": [
      "10 to the power of 40 is: 10000000000000000000000000000000000000000\n"
     ]
    }
   ],
   "source": [
    "# Raise 10 to the power of 40# Calculate 10 to the power of 40\n",
    "result = 10 ** 40\n",
    "\n",
    "# Display the result\n",
    "print(f\"10 to the power of 40 is: {result}\")\n",
    "\n",
    "\n"
   ]
  },
  {
   "cell_type": "code",
   "execution_count": 5,
   "id": "e5b5e304",
   "metadata": {},
   "outputs": [],
   "source": [
    "# Define a variable called Currentyear and assign a value to it\n",
    "\n",
    "Currentyear = 24\n",
    "currentyear =  24"
   ]
  },
  {
   "cell_type": "code",
   "execution_count": 5,
   "id": "512c98aa",
   "metadata": {},
   "outputs": [
    {
     "name": "stdout",
     "output_type": "stream",
     "text": [
      "25\n"
     ]
    }
   ],
   "source": [
    "# Define a variable called my_integer and assign a value 25 to it\n",
    "\n",
    "my_integer = 25\n",
    "print(my_integer)\n"
   ]
  },
  {
   "cell_type": "code",
   "execution_count": 6,
   "id": "28fbeb8c",
   "metadata": {},
   "outputs": [
    {
     "name": "stdout",
     "output_type": "stream",
     "text": [
      "23\n"
     ]
    }
   ],
   "source": [
    "# Define a variable called age and assign the value 23 and print the result using print()\n",
    "age = 23\n",
    "print(age)\n",
    "\n",
    "\n"
   ]
  },
  {
   "cell_type": "code",
   "execution_count": 8,
   "id": "fb5e88a7",
   "metadata": {},
   "outputs": [
    {
     "name": "stdout",
     "output_type": "stream",
     "text": [
      "<class 'int'>\n"
     ]
    }
   ],
   "source": [
    "# now print the type of the age variable using the type() function\n",
    "\n",
    "age = 23\n",
    "print(type(age))\n"
   ]
  },
  {
   "cell_type": "code",
   "execution_count": 10,
   "id": "e1a3c616",
   "metadata": {},
   "outputs": [
    {
     "name": "stdout",
     "output_type": "stream",
     "text": [
      "23.0\n"
     ]
    }
   ],
   "source": [
    "# now assign new float variable [float means no with decimal value] to the age \n",
    "\n",
    "\n",
    "\n",
    "age = 23.0\n",
    "print(age)\n",
    "\n",
    "\n"
   ]
  },
  {
   "cell_type": "code",
   "execution_count": 11,
   "id": "2e68e8ae",
   "metadata": {},
   "outputs": [],
   "source": [
    "# Create 3 different variable and store any values you like\n",
    "\n",
    "# make sure to use camelCase, Pascal and Snake_case\n",
    "# Camel Case: first word lowercase, subsequent words capitalized\n",
    "myAge = 25\n",
    "\n",
    "# Pascal Case: each word capitalized\n",
    "MyAge = 25\n",
    "\n",
    "# Snake Case: all words lowercase, separated by underscores\n",
    "my_age = 25\n"
   ]
  },
  {
   "cell_type": "code",
   "execution_count": 9,
   "id": "ec9a89c7",
   "metadata": {},
   "outputs": [],
   "source": [
    "# Write in markdown about three takeaway from your python and datascience class\n"
   ]
  },
  {
   "cell_type": "code",
   "execution_count": null,
   "id": "5cb2a37d",
   "metadata": {},
   "outputs": [],
   "source": []
  }
 ],
 "metadata": {
  "kernelspec": {
   "display_name": "Python [conda env:base] *",
   "language": "python",
   "name": "conda-base-py"
  },
  "language_info": {
   "codemirror_mode": {
    "name": "ipython",
    "version": 3
   },
   "file_extension": ".py",
   "mimetype": "text/x-python",
   "name": "python",
   "nbconvert_exporter": "python",
   "pygments_lexer": "ipython3",
   "version": "3.12.7"
  }
 },
 "nbformat": 4,
 "nbformat_minor": 5
}
