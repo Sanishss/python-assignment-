{
 "cells": [
  {
   "cell_type": "markdown",
   "id": "036a404b",
   "metadata": {},
   "source": [
    " # In this notebook complete the task as per the instruction\n",
    "\n",
    "complete the task in the empty cells below the markdown question."
   ]
  },
  {
   "cell_type": "markdown",
   "id": "9326b48e",
   "metadata": {},
   "source": [
    "# 1. Create a list of your hobbies and print them using for loop\n",
    "\n"
   ]
  },
  {
   "cell_type": "code",
   "execution_count": 1,
   "id": "563f6376",
   "metadata": {},
   "outputs": [
    {
     "name": "stdout",
     "output_type": "stream",
     "text": [
      "reading\n",
      "traveling\n",
      "photography\n",
      "coding\n",
      "cooking\n"
     ]
    }
   ],
   "source": [
    "# Define a list of hobbies\n",
    "hobbies = [\"reading\", \"traveling\", \"photography\", \"coding\", \"cooking\"]\n",
    "\n",
    "# Print each hobby using a for loop\n",
    "for hobby in hobbies:\n",
    "    print(hobby)\n"
   ]
  },
  {
   "cell_type": "markdown",
   "id": "d376a48d",
   "metadata": {},
   "source": [
    "# 2. Create a dictionary called hobbies_ratings and add the following values\n",
    "\n",
    "- \"Reading\": 9,\n",
    "- \"Drawing\": 8,\n",
    "- \"Cooking\": 7,\n",
    "-  \"Hiking\": 9,\n",
    "- \"Gardening\": 6\n",
    "\n",
    "\n",
    "Then once dictionary is created, print hobbies and their ratings using a for loop\n",
    "\n",
    "**Hint:** \n",
    "\n",
    "`For hobby, rating in hobbies_ratings.items():`"
   ]
  },
  {
   "cell_type": "code",
   "execution_count": 2,
   "id": "5ed560d1",
   "metadata": {},
   "outputs": [
    {
     "name": "stdout",
     "output_type": "stream",
     "text": [
      "Reading: 9\n",
      "Drawing: 8\n",
      "Cooking: 7\n",
      "Hiking: 9\n",
      "Gardening: 6\n"
     ]
    }
   ],
   "source": [
    "# Define the dictionary\n",
    "hobbies_ratings = {\n",
    "    \"Reading\": 9,\n",
    "    \"Drawing\": 8,\n",
    "    \"Cooking\": 7,\n",
    "    \"Hiking\": 9,\n",
    "    \"Gardening\": 6\n",
    "}\n",
    "\n",
    "# Print each hobby and its rating\n",
    "for hobby, rating in hobbies_ratings.items():\n",
    "    print(f\"{hobby}: {rating}\")"
   ]
  },
  {
   "cell_type": "markdown",
   "id": "876bc45d",
   "metadata": {},
   "source": [
    "# 3. Fill in the blanks for \n",
    "\n",
    "\n",
    "- List is Order collection and is declared using _square_______ bracket?\n",
    "\n",
    "- __tuple____ is only data structure which value can't be changed after creation\n",
    "\n",
    "- Set doesnot allow to have ___dulicate___ values.\n",
    "\n",
    "- Set and ___dictinory___ both uses {}/"
   ]
  },
  {
   "cell_type": "markdown",
   "id": "6141181a",
   "metadata": {},
   "source": [
    " # 4. Create a function called add and do some addition (a+b). Then do function calling to show output"
   ]
  },
  {
   "cell_type": "code",
   "execution_count": 3,
   "id": "0768390c",
   "metadata": {},
   "outputs": [
    {
     "name": "stdout",
     "output_type": "stream",
     "text": [
      "The sum is: 8\n"
     ]
    }
   ],
   "source": [
    "# Define the function\n",
    "def add(a, b):\n",
    "    return a + b\n",
    "\n",
    "# Call the function and print the result\n",
    "result = add(5, 3)\n",
    "print(\"The sum is:\", result)\n"
   ]
  },
  {
   "cell_type": "markdown",
   "id": "432b2435",
   "metadata": {},
   "source": [
    "# 5. Using the Dictionary created in Q.2, print the  hobbies if the rating is > 8\n",
    "\n",
    "\n",
    "**Hint:** \n",
    "\n",
    "    ```\n",
    "    For hobby, rating in hobbies_ratings.items():\n",
    "        if rating >= 8:\n",
    "           print(\"Nice hobies)\n",
    "        else.....   \n",
    "\n",
    "        ```\n"
   ]
  },
  {
   "cell_type": "code",
   "execution_count": 4,
   "id": "9b1f13d0",
   "metadata": {},
   "outputs": [
    {
     "name": "stdout",
     "output_type": "stream",
     "text": [
      "Nice hobby: Reading\n",
      "Nice hobby: Drawing\n",
      "Needs improvement: Cooking\n",
      "Nice hobby: Hiking\n",
      "Needs improvement: Gardening\n"
     ]
    }
   ],
   "source": [
    "# Define the dictionary\n",
    "hobbies_ratings = {\n",
    "    \"Reading\": 9,\n",
    "    \"Drawing\": 8,\n",
    "    \"Cooking\": 7,\n",
    "    \"Hiking\": 9,\n",
    "    \"Gardening\": 6\n",
    "}\n",
    "\n",
    "# Iterate through the dictionary and print hobbies with a rating >= 8\n",
    "for hobby, rating in hobbies_ratings.items():\n",
    "    if rating >= 8:\n",
    "        print(f\"Nice hobby: {hobby}\")\n",
    "    else:\n",
    "        print(f\"Needs improvement: {hobby}\")\n"
   ]
  }
 ],
 "metadata": {
  "kernelspec": {
   "display_name": "Python [conda env:base] *",
   "language": "python",
   "name": "conda-base-py"
  },
  "language_info": {
   "codemirror_mode": {
    "name": "ipython",
    "version": 3
   },
   "file_extension": ".py",
   "mimetype": "text/x-python",
   "name": "python",
   "nbconvert_exporter": "python",
   "pygments_lexer": "ipython3",
   "version": "3.12.7"
  }
 },
 "nbformat": 4,
 "nbformat_minor": 5
}
