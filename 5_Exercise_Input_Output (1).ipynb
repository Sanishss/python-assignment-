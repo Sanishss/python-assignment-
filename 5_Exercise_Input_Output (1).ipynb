{
 "cells": [
  {
   "cell_type": "markdown",
   "id": "a5972b91",
   "metadata": {},
   "source": [
    "# Exercise: Hobby Tracker\n",
    "\n",
    "Write a Python program that allows a user to track their hobbies. The program should prompt the user to enter their hobbies and store them in a file. It should also provide an option to view the list of hobbies entered by the user.\n",
    "\n",
    "Here's a step-by-step guide to solving the exercise:\n",
    "\n",
    "1. Prompt the user to enter their hobbies.\n",
    "2. Accept multiple hobby inputs from the user until they choose to stop.\n",
    "3. Store the entered hobbies in a list or another suitable data structure.\n",
    "4. Write the hobbies to a file, one hobby per line.\n",
    "5. Provide an option to view the list of hobbies.\n",
    "6. Read the hobbies from the file and display them to the user."
   ]
  },
  {
   "cell_type": "code",
   "execution_count": null,
   "id": "a4d85a9f",
   "metadata": {},
   "outputs": [],
   "source": []
  },
  {
   "cell_type": "code",
   "execution_count": null,
   "id": "a5ce8bb4",
   "metadata": {},
   "outputs": [],
   "source": []
  },
  {
   "cell_type": "code",
   "execution_count": null,
   "id": "bd759427",
   "metadata": {},
   "outputs": [],
   "source": []
  },
  {
   "cell_type": "code",
   "execution_count": null,
   "id": "0736158d",
   "metadata": {},
   "outputs": [],
   "source": []
  },
  {
   "cell_type": "code",
   "execution_count": null,
   "id": "15a234c6",
   "metadata": {},
   "outputs": [],
   "source": []
  },
  {
   "cell_type": "code",
   "execution_count": 15,
   "id": "8c8a0681",
   "metadata": {},
   "outputs": [
    {
     "name": "stdout",
     "output_type": "stream",
     "text": [
      "Hobby Tracker\n",
      "1. Add Hobbies\n",
      "2. View Hobbies\n",
      "Enter your choice (ADD or View): add\n",
      "Invalid choice!\n"
     ]
    }
   ],
   "source": [
    "# solution\n",
    "def add_hobbies():   # function declare\n",
    "    hobbies = []  # empty list creation\n",
    "    while True:\n",
    "        hobby = input(\"Enter a hobby (or 'q' to quit): \") #input from user\n",
    "        if hobby.lower() == 'q':\n",
    "            break\n",
    "        hobbies.append(hobby)\n",
    "    with open(\"hobbies.txt\", \"w\") as file:\n",
    "        file.write(\"\\n\".join(hobbies))\n",
    "    print(\"Hobbies saved successfully!\")\n",
    "\n",
    "def view_hobbies():\n",
    "    with open(\"hobbies.txt\", \"r\") as file:\n",
    "        hobbies = file.read().splitlines()\n",
    "    print(\"Your hobbies:\")\n",
    "    for hobby in hobbies:\n",
    "        print(hobby)\n",
    "\n",
    "        \n",
    "        \n",
    "\n",
    "# Main program\n",
    "print(\"Hobby Tracker\") # print \n",
    "print(\"1. Add Hobbies\")\n",
    "print(\"2. View Hobbies\") \n",
    "\n",
    "choice = input(\"Enter your choice (1 or 2): \")\n",
    "\n",
    "if choice == '1': # if condition checks for 1 \n",
    "    add_hobbies()  # functionc alling to add_hobbies() with no \n",
    "elif choice == '2':\n",
    "    view_hobbies()\n",
    "else:\n",
    "    print(\"Invalid choice!\")\n"
   ]
  },
  {
   "cell_type": "code",
   "execution_count": null,
   "id": "3267d1b4",
   "metadata": {},
   "outputs": [],
   "source": []
  }
 ],
 "metadata": {
  "kernelspec": {
   "display_name": "Python [conda env:base] *",
   "language": "python",
   "name": "conda-base-py"
  },
  "language_info": {
   "codemirror_mode": {
    "name": "ipython",
    "version": 3
   },
   "file_extension": ".py",
   "mimetype": "text/x-python",
   "name": "python",
   "nbconvert_exporter": "python",
   "pygments_lexer": "ipython3",
   "version": "3.12.7"
  }
 },
 "nbformat": 4,
 "nbformat_minor": 5
}
