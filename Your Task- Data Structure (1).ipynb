{
 "cells": [
  {
   "cell_type": "markdown",
   "id": "7c6627e5",
   "metadata": {},
   "source": [
    "## Data Structure Task\n",
    "![](https://devopedia.org/images/article/41/8174.1595680354.png)\n",
    "\n",
    "\n",
    "\n"
   ]
  },
  {
   "cell_type": "markdown",
   "id": "21cf4040",
   "metadata": {},
   "source": [
    "# List"
   ]
  },
  {
   "cell_type": "code",
   "execution_count": 1,
   "id": "80157d46",
   "metadata": {},
   "outputs": [
    {
     "name": "stdout",
     "output_type": "stream",
     "text": [
      "Original List: ['apple', 'banana', 'cherry', 'date', 'elderberry']\n",
      "Second Fruit: banana\n",
      "Updated List: ['apple', 'banana', 'orange', 'date', 'elderberry']\n",
      "List After Removal: ['banana', 'orange', 'date', 'elderberry']\n"
     ]
    }
   ],
   "source": [
    "# Creation: Create a list of your favorite fruits\n",
    "\n",
    "# Create a list of favorite fruits\n",
    "favorite_fruits = [\"apple\", \"banana\", \"cherry\", \"date\", \"elderberry\"]\n",
    "print(\"Original List:\", favorite_fruits)\n",
    "\n",
    "\n",
    "# Access: Access the second item in the list.\n",
    "\n",
    "# Access the second item (index 1) in the list\n",
    "second_fruit = favorite_fruits[1]\n",
    "print(\"Second Fruit:\", second_fruit)\n",
    "\n",
    "\n",
    "# Update: Change the third item to \"orange\".\n",
    "\n",
    "# Update the third item (index 2) to \"orange\"\n",
    "favorite_fruits[2] = \"orange\"\n",
    "print(\"Updated List:\", favorite_fruits)\n",
    "\n",
    "\n",
    "#Remove: Remove the first item from the list.\n",
    "# Remove the first item (index 0) from the list\n",
    "del favorite_fruits[0]\n",
    "print(\"List After Removal:\", favorite_fruits)\n"
   ]
  },
  {
   "cell_type": "markdown",
   "id": "060b720b",
   "metadata": {},
   "source": [
    "# Tuples"
   ]
  },
  {
   "cell_type": "code",
   "execution_count": 2,
   "id": "2b40264b",
   "metadata": {},
   "outputs": [
    {
     "ename": "SyntaxError",
     "evalue": "invalid syntax (2428317237.py, line 22)",
     "output_type": "error",
     "traceback": [
      "\u001b[1;36m  Cell \u001b[1;32mIn[2], line 22\u001b[1;36m\u001b[0m\n\u001b[1;33m    Error: 'tuple' object does not support item assignment\u001b[0m\n\u001b[1;37m                   ^\u001b[0m\n\u001b[1;31mSyntaxError\u001b[0m\u001b[1;31m:\u001b[0m invalid syntax\n"
     ]
    }
   ],
   "source": [
    "# Creation: Create a tuple with three different colors.\n",
    "# Create a tuple with three colors\n",
    "colors = (\"red\", \"green\", \"blue\")\n",
    "print(\"Original Tuple:\", colors)\n",
    "\n",
    "\n",
    "# Access: Access the third item in the tuple.\n",
    "\n",
    "# Access the third item (index 2) in the tuple\n",
    "third_color = colors[2]\n",
    "print(\"Third Color:\", third_color)\n",
    "\n",
    "# Update: Try to change the second item to \"yellow\" and observe what happens. Expect something error\n",
    "# Attempt to update the second item (index 1) to \"yellow\"\n",
    "try:\n",
    "    colors[1] = \"yellow\"\n",
    "except TypeError as e:\n",
    "    print(\"Error:\", e)\n",
    "\n",
    "\n",
    "# Remove: Give reason why you can or can't\n",
    "Error: 'tuple' object does not support item assignment\n"
   ]
  },
  {
   "cell_type": "markdown",
   "id": "d9af3178",
   "metadata": {},
   "source": [
    "# SET"
   ]
  },
  {
   "cell_type": "code",
   "execution_count": 3,
   "id": "c38b08db",
   "metadata": {},
   "outputs": [],
   "source": [
    "# Creation: Create a set of your favorite movies\n",
    "\n",
    "\n",
    "favorite_movies = {\"Inception\", \"The Matrix\", \"Interstellar\", \"The Dark Knight\", \"Memento\"}\n",
    "print(\"Original Set:\", favorite_movies)\n",
    "\n",
    "\n",
    "\n",
    "# Access: Check if your \"Toy Car\" is in the set.\n",
    "\n",
    "if \"Toy Car\" in favorite_movies:\n",
    "    print(\"Yes, 'Toy Car' is in the set.\")\n",
    "else:\n",
    "    print(\"No, 'Toy Car' is not in the set.\")\n",
    "\n",
    "\n",
    "\n",
    "# Update: Add \"Miracle in Cell\" to the set.\n",
    "\n",
    "\n",
    "favorite_movies.add(\"Miracle in Cell\")\n",
    "print(\"Updated Set:\", favorite_movies)\n",
    "\n",
    "\n",
    "\n",
    "\n",
    "# Remove: Remove your least favorite movies.\n",
    "\n",
    "favorite_movies.remove(\"Memento\")\n",
    "print(\"Set After Removal:\", favorite_movies)\n",
    "\n"
   ]
  },
  {
   "cell_type": "markdown",
   "id": "77344d89",
   "metadata": {},
   "source": [
    "# Dictionary"
   ]
  },
  {
   "cell_type": "code",
   "execution_count": 3,
   "id": "02ece1f6",
   "metadata": {},
   "outputs": [
    {
     "name": "stdout",
     "output_type": "stream",
     "text": [
      "Original Dictionary: {'name': 'Alice', 'age': 30, 'city': 'New York'}\n",
      "Age: 30\n",
      "Updated Dictionary: {'name': 'Alice', 'age': 30, 'city': 'Los Angeles'}\n",
      "Dictionary After Removal: {'name': 'Alice', 'city': 'Los Angeles'}\n"
     ]
    }
   ],
   "source": [
    "# Creation: Create a dictionary with three key-value pairs representing a person's details (e.g., name, age, city).\n",
    "# Create a dictionary with personal details\n",
    "person_details = {\n",
    "    \"name\": \"Alice\",\n",
    "    \"age\": 30,\n",
    "    \"city\": \"New York\"\n",
    "}\n",
    "print(\"Original Dictionary:\", person_details)\n",
    "\n",
    "\n",
    "\n",
    "# Access: Access the person's age.\n",
    "# Access the age using the key\n",
    "age = person_details[\"age\"]\n",
    "print(\"Age:\", age)\n",
    "\n",
    "\n",
    "\n",
    "# Update: Update the person's city to \"Los Angeles\".\n",
    "# Update the city\n",
    "person_details[\"city\"] = \"Los Angeles\"\n",
    "print(\"Updated Dictionary:\", person_details)\n",
    "\n",
    "\n",
    "# Remove: Remove the age key-value pair from the dictionary.\n",
    "# Remove the age key-value pair\n",
    "del person_details[\"age\"]\n",
    "print(\"Dictionary After Removal:\", person_details)\n"
   ]
  },
  {
   "cell_type": "markdown",
   "id": "1147fb20",
   "metadata": {},
   "source": [
    "# List Compression"
   ]
  },
  {
   "cell_type": "code",
   "execution_count": null,
   "id": "2843c7d3",
   "metadata": {},
   "outputs": [],
   "source": [
    "# Create a list of squares of numbers from 1 to 10.\n",
    "import matplotlib.pyplot as plt\n",
    "\n",
    "# Numbers from 1 to 10\n",
    "numbers = list(range(1, 11))\n",
    "\n",
    "# Plotting the squares\n",
    "plt.plot(numbers, squares, marker='o')\n",
    "plt.title('Squares of Numbers from 1 to 10')\n",
    "plt.xlabel('Number')\n",
    "plt.ylabel('Square')\n",
    "plt.grid(True)\n",
    "plt.show()"
   ]
  },
  {
   "cell_type": "code",
   "execution_count": 2,
   "id": "0d9983ab",
   "metadata": {},
   "outputs": [
    {
     "name": "stdout",
     "output_type": "stream",
     "text": [
      "['HELLO', 'WORLD', 'PYTHON', 'LIST', 'COMPREHENSION']\n"
     ]
    }
   ],
   "source": [
    "# Explain in the markdown what is happening in this code\n",
    "\n",
    "words = [\"hello\", \"world\", \"python\", \"list\", \"comprehension\"]\n",
    "uppercase_words = [word.upper() for word in words]\n",
    "print(uppercase_words)"
   ]
  },
  {
   "cell_type": "markdown",
   "id": "9cec37a4",
   "metadata": {},
   "source": [
    "> Submit to the email"
   ]
  },
  {
   "cell_type": "markdown",
   "id": "26f5e9d2",
   "metadata": {},
   "source": [
    "Recommended Reading\n",
    "\n",
    "https://www.stationx.net/python-data-structures-cheat-sheet/"
   ]
  },
  {
   "cell_type": "code",
   "execution_count": null,
   "id": "140d6880",
   "metadata": {},
   "outputs": [],
   "source": []
  }
 ],
 "metadata": {
  "kernelspec": {
   "display_name": "Python [conda env:base] *",
   "language": "python",
   "name": "conda-base-py"
  },
  "language_info": {
   "codemirror_mode": {
    "name": "ipython",
    "version": 3
   },
   "file_extension": ".py",
   "mimetype": "text/x-python",
   "name": "python",
   "nbconvert_exporter": "python",
   "pygments_lexer": "ipython3",
   "version": "3.12.7"
  }
 },
 "nbformat": 4,
 "nbformat_minor": 5
}
